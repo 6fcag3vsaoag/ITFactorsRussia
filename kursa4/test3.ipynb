{
 "cells": [
  {
   "cell_type": "code",
   "execution_count": null,
   "id": "4dd5d16e",
   "metadata": {},
   "outputs": [],
   "source": [
    "# Словарь файлов и соответствующих им названий столбцов\n",
    "files = {\n",
    "    'tksg.xlsx': 'TCSG',\n",
    "    'yandex.xlsx': 'YDEX',\n",
    "    'vk.xlsx': 'VKCO',\n",
    "    'rostelecom.xlsx': 'RTKM',\n",
    "    'usd_rub.xlsx': 'USD_RUB',\n",
    "    'brent.xlsx': 'Brent',\n",
    "    'bitcoin.xlsx': 'BTC_USD'\n",
    "}"
   ]
  }
 ],
 "metadata": {
  "language_info": {
   "name": "python"
  }
 },
 "nbformat": 4,
 "nbformat_minor": 5
}
